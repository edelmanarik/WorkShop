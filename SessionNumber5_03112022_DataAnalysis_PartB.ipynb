{
 "cells": [
  {
   "cell_type": "code",
   "execution_count": 12,
   "id": "vulnerable-boxing",
   "metadata": {},
   "outputs": [],
   "source": [
    "import sqlite3\n",
    "conn = sqlite3.connect('L5DB') \n",
    "c = conn.cursor()\n",
    "c.execute('''\n",
    "          CREATE TABLE IF NOT EXISTS products\n",
    "          ([product_id] INTEGER PRIMARY KEY, [product_name] TEXT, [price] INTEGER)\n",
    "          ''')\n",
    "c.execute('''\n",
    "          INSERT INTO products (product_id, product_name, price)\n",
    "                VALUES\n",
    "                (1,'Computer',800),\n",
    "                (2,'Printer',200),\n",
    "                (3,'Tablet',300),\n",
    "                (4,'Desk',450),\n",
    "                (5,'Chair',150),\n",
    "                (6,'EBike',15000)\n",
    "          ''')                     \n",
    "conn.commit()"
   ]
  },
  {
   "cell_type": "code",
   "execution_count": 13,
   "id": "alike-village",
   "metadata": {},
   "outputs": [
    {
     "name": "stdout",
     "output_type": "stream",
     "text": [
      "   product_id product_name  price\n",
      "0           1     Computer    800\n",
      "1           2      Printer    200\n",
      "2           3       Tablet    300\n",
      "3           4         Desk    450\n",
      "4           5        Chair    150\n",
      "5           6        EBike  15000\n"
     ]
    }
   ],
   "source": [
    "import sqlite3\n",
    "import pandas as pd\n",
    "\n",
    "conn = sqlite3.connect('L5DB') \n",
    "sql_query = pd.read_sql_query ('''\n",
    "                               SELECT\n",
    "                               *\n",
    "                               FROM products\n",
    "                               ''', conn)\n",
    "\n",
    "df = pd.DataFrame(sql_query, columns = ['product_id', 'product_name', 'price'])\n",
    "print (df)"
   ]
  },
  {
   "cell_type": "code",
   "execution_count": 18,
   "id": "medieval-steal",
   "metadata": {},
   "outputs": [
    {
     "name": "stdout",
     "output_type": "stream",
     "text": [
      "max_price = 15000\n",
      "\n",
      "All Data Base :\n",
      "===============\n",
      "   product_id product_name  price\n",
      "0           1     Computer    800\n",
      "1           2      Printer    200\n",
      "2           3       Tablet    300\n",
      "3           4         Desk    450\n",
      "4           5        Chair    150\n",
      "5           6        EBike  15000\n"
     ]
    }
   ],
   "source": [
    "import sqlite3\n",
    "import pandas as pd\n",
    "conn = sqlite3.connect('L5DB') \n",
    "c = conn.cursor()\n",
    "c.execute('''\n",
    "          SELECT\n",
    "          *\n",
    "          FROM products\n",
    "          ''')\n",
    "df = pd.DataFrame(c.fetchall(), columns = ['product_id', 'product_name', 'price'])\n",
    "max_price = df['price'].max()\n",
    "print (f'max_price = {max_price}')\n",
    "print()\n",
    "print('All Data Base :')\n",
    "print('===============')\n",
    "print(df)"
   ]
  }
 ],
 "metadata": {
  "kernelspec": {
   "display_name": "Python 3",
   "language": "python",
   "name": "python3"
  },
  "language_info": {
   "codemirror_mode": {
    "name": "ipython",
    "version": 3
   },
   "file_extension": ".py",
   "mimetype": "text/x-python",
   "name": "python",
   "nbconvert_exporter": "python",
   "pygments_lexer": "ipython3",
   "version": "3.6.5"
  }
 },
 "nbformat": 4,
 "nbformat_minor": 5
}
