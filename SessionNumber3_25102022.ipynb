{
  "nbformat": 4,
  "nbformat_minor": 0,
  "metadata": {
    "colab": {
      "provenance": []
    },
    "kernelspec": {
      "name": "python3",
      "display_name": "Python 3"
    },
    "language_info": {
      "name": "python"
    }
  },
  "cells": [
    {
      "cell_type": "code",
      "execution_count": 2,
      "metadata": {
        "id": "iEvVxBUiQv2g"
      },
      "outputs": [],
      "source": [
        "#import :\n",
        "from numpy import random ; from random import randint"
      ]
    },
    {
      "cell_type": "code",
      "source": [
        "# Swap :\n",
        "x=9;y=19\n",
        "print(f'x={x} \\t y={y}')\n",
        "x,y=y,x\n",
        "print(f'x={x} \\t y={y}')"
      ],
      "metadata": {
        "colab": {
          "base_uri": "https://localhost:8080/"
        },
        "id": "Mc5DkjW5TqjS",
        "outputId": "db9257e0-ab42-4937-e733-eec22cb7efe6"
      },
      "execution_count": 11,
      "outputs": [
        {
          "output_type": "stream",
          "name": "stdout",
          "text": [
            "x=9 \t y=19\n",
            "x=19 \t y=9\n"
          ]
        }
      ]
    },
    {
      "cell_type": "code",
      "source": [
        "L=[120,2,3,45,3,90]\n",
        "print(f'First itme = {L[0]},Last itme = {L[-1]}')"
      ],
      "metadata": {
        "colab": {
          "base_uri": "https://localhost:8080/"
        },
        "id": "3fYotM9RTQmP",
        "outputId": "c51198c2-9676-427d-f288-460e1c088026"
      },
      "execution_count": 10,
      "outputs": [
        {
          "output_type": "stream",
          "name": "stdout",
          "text": [
            "First itme = 120,Last itme = 90\n"
          ]
        }
      ]
    },
    {
      "cell_type": "code",
      "source": [
        "N=20;L=[];L_Unique=[]\n",
        "# Random Numers:\n",
        "for i in range(N):\n",
        "    L.append(randint(1,10))\n",
        "L_Unique=sorted(set(L),reverse=True)\n",
        "# Unique Values\n",
        "L_Unique=list(set(L))\n",
        "L_Unique.sort(reverse=True)\n",
        "# https://docs.python.org/3/library/functions.html\n",
        "#Print:\n",
        "print(f'The List Org = {L}')\n",
        "print(f'The Unique List = {L_Unique}')"
      ],
      "metadata": {
        "colab": {
          "base_uri": "https://localhost:8080/"
        },
        "id": "CxbvgS-gRPLV",
        "outputId": "4ed1c62e-17eb-4983-c857-9cdf4785aa55"
      },
      "execution_count": 4,
      "outputs": [
        {
          "output_type": "stream",
          "name": "stdout",
          "text": [
            "The List Org = [8, 1, 4, 6, 6, 10, 10, 1, 3, 10, 6, 3, 4, 5, 8, 4, 9, 3, 5, 1]\n",
            "The Unique List = [10, 9, 8, 6, 5, 4, 3, 1]\n"
          ]
        }
      ]
    },
    {
      "cell_type": "code",
      "source": [
        "# while loop:\n",
        "i=0\n",
        "while i<6:\n",
        "    print(i,end=';')\n",
        "    i=i+1"
      ],
      "metadata": {
        "colab": {
          "base_uri": "https://localhost:8080/"
        },
        "id": "UzALBfuIRPUE",
        "outputId": "59597e45-16a2-4e62-fd7e-dc625a00a538"
      },
      "execution_count": 5,
      "outputs": [
        {
          "output_type": "stream",
          "name": "stdout",
          "text": [
            "0;1;2;3;4;5;"
          ]
        }
      ]
    },
    {
      "cell_type": "code",
      "source": [
        "def CalcLoah(N):\n",
        "    SeifA=0;SeifB1=0;SeifB2=0;SeifC=0;SeifD=0\n",
        "    for i in range(1,N+1):\n",
        "        SeifB1+=i**2\n",
        "        if i==N:\n",
        "            SeifD+=(N**2+N*2+1)\n",
        "        for j in range(1,N+1):\n",
        "            SeifA+=i*j\n",
        "            if i+j==N+1:\n",
        "                SeifB2+=i*j\n",
        "        if N%2==0:\n",
        "            SeifC=((N//2)**2+(N//2+1)**2)/2\n",
        "        else:\n",
        "            SeifC=(int(N/2)+1)**2\n",
        "    return SeifA,SeifB1*SeifB2,SeifC,SeifD\n",
        "# Driver :\n",
        "CalcLoah(4)                  "
      ],
      "metadata": {
        "colab": {
          "base_uri": "https://localhost:8080/"
        },
        "id": "E0rGSvdERPbS",
        "outputId": "f6ad0b61-a1b1-4117-d130-339c40449dd5"
      },
      "execution_count": 6,
      "outputs": [
        {
          "output_type": "execute_result",
          "data": {
            "text/plain": [
              "(100, 600, 6.5, 25)"
            ]
          },
          "metadata": {},
          "execution_count": 6
        }
      ]
    },
    {
      "cell_type": "code",
      "source": [
        "def CheckTheString(MyStr,MyChar):\n",
        "    StrBack='';SumStr=0\n",
        "    for i in MyStr:\n",
        "        if MyChar=='D' and i.isdigit():\n",
        "            StrBack+=i\n",
        "            SumStr+=int(i)\n",
        "        elif MyChar=='L' and i.islower():\n",
        "            StrBack+=i\n",
        "        elif MyChar=='U' and i.isupper():\n",
        "            StrBack+=i\n",
        "    return StrBack,len(StrBack),SumStr\n",
        "    \n",
        "# Driver :\n",
        "F='234561Drffrgggf4DD9SS'\n",
        "print(CheckTheString(F,'D'))\n",
        "print(CheckTheString(F,'U'))\n",
        "print(CheckTheString(F,'L'))"
      ],
      "metadata": {
        "colab": {
          "base_uri": "https://localhost:8080/"
        },
        "id": "itbmfXtuRc3O",
        "outputId": "61def167-6418-4318-918a-28131a9a1f32"
      },
      "execution_count": 7,
      "outputs": [
        {
          "output_type": "stream",
          "name": "stdout",
          "text": [
            "('23456149', 8, 34)\n",
            "('DDDSS', 5, 0)\n",
            "('rffrgggf', 8, 0)\n"
          ]
        }
      ]
    }
  ]
}