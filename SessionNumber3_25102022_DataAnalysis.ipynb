{
  "nbformat": 4,
  "nbformat_minor": 0,
  "metadata": {
    "colab": {
      "provenance": []
    },
    "kernelspec": {
      "name": "python3",
      "display_name": "Python 3"
    },
    "language_info": {
      "name": "python"
    }
  },
  "cells": [
    {
      "cell_type": "code",
      "execution_count": 1,
      "metadata": {
        "id": "n2B3tHhKVDC-"
      },
      "outputs": [],
      "source": [
        "#Useful imports\n",
        "import numpy as np\n",
        "import pandas as pd\n",
        "import matplotlib.pyplot as plt\n",
        "import seaborn as sns\n",
        "# הצגת כל המידע הגרפי בתוך חוברת העבודה בה אנחנו עובדים\n",
        "%matplotlib inline\n",
        "#seaborn - טעינת מאגר מידע לבדיקות מתוך עולם ה\n",
        "# ניטרול הודעות שגיאה \n",
        "import warnings\n",
        "warnings.filterwarnings(\"ignore\")"
      ]
    },
    {
      "cell_type": "code",
      "source": [
        "flights =sns.load_dataset(\"flights\")\n",
        "flights['MyName']=''\n",
        "for i in flights.index:\n",
        "    if flights['year'][i]%2==0:\n",
        "        flights['MyName'][i]='FN'\n",
        "    else:\n",
        "        flights['MyName'][i]='LN'      \n",
        "flights"
      ],
      "metadata": {
        "id": "Pci8dW3zVFPS"
      },
      "execution_count": null,
      "outputs": []
    },
    {
      "cell_type": "code",
      "source": [
        "taxis = sns.load_dataset('taxis')\n",
        "print(taxis.columns)\n",
        "taxis.head(2)"
      ],
      "metadata": {
        "id": "FLHHPPQYVVZv"
      },
      "execution_count": null,
      "outputs": []
    },
    {
      "cell_type": "code",
      "source": [
        "years_flights=flights.groupby('year').sum()\n",
        "print(f'Total Pass per Year = {years_flights}')  \n",
        "sns.relplot(x = 'year', y = 'passengers', data = years_flights,kind='line');\n",
        "sns.relplot(x = 'year', y = 'passengers', data = years_flights,kind='scatter');"
      ],
      "metadata": {
        "id": "UQTJXl9tVb4p"
      },
      "execution_count": null,
      "outputs": []
    },
    {
      "cell_type": "code",
      "source": [
        "flights_wide = flights.pivot(index=\"year\", columns=\"month\", values=\"passengers\")\n",
        "flights_wide.head()"
      ],
      "metadata": {
        "id": "QkWXsdOfVgE_"
      },
      "execution_count": null,
      "outputs": []
    },
    {
      "cell_type": "code",
      "source": [
        "DataTest_P=pd.read_excel('https://raw.githubusercontent.com/edelmanarik/DataVisualFri/main/northwindDataBase.xlsx',sheet_name='Products')\n",
        "DataTest_S=pd.read_excel('https://raw.githubusercontent.com/edelmanarik/DataVisualFri/main/northwindDataBase.xlsx',sheet_name='Suppliers')\n",
        "DataTest_OD=pd.read_excel('https://raw.githubusercontent.com/edelmanarik/DataVisualFri/main/northwindDataBase.xlsx',sheet_name='OrderDetails')"
      ],
      "metadata": {
        "id": "yr30J8krVkzh"
      },
      "execution_count": 6,
      "outputs": []
    },
    {
      "cell_type": "code",
      "source": [
        "Seif2=DataTest_S.merge(DataTest_P, left_on='supplierID', right_on='supplierID')\n",
        "Seif2=Seif2[['companyName','productID','productName','unitPrice']]\n",
        "Seif2.groupby('companyName').count()['productName']"
      ],
      "metadata": {
        "id": "Sz87W531Vpd9"
      },
      "execution_count": null,
      "outputs": []
    },
    {
      "cell_type": "code",
      "source": [
        "for i in flights['year']:\n",
        "    C1=flights['year']==i\n",
        "    flights.loc[C1].to_csv('year' + str(i) + '.csv')"
      ],
      "metadata": {
        "id": "tPYwt6BMVx0v"
      },
      "execution_count": 8,
      "outputs": []
    }
  ]
}