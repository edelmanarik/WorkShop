{
 "cells": [
  {
   "cell_type": "code",
   "execution_count": null,
   "metadata": {
    "id": "n2B3tHhKVDC-"
   },
   "outputs": [],
   "source": [
    "#Useful imports\n",
    "import numpy as np\n",
    "import pandas as pd\n",
    "import matplotlib.pyplot as plt\n",
    "import seaborn as sns\n",
    "# הצגת כל המידע הגרפי בתוך חוברת העבודה בה אנחנו עובדים\n",
    "%matplotlib inline\n",
    "#seaborn - טעינת מאגר מידע לבדיקות מתוך עולם ה\n",
    "# ניטרול הודעות שגיאה \n",
    "import warnings\n",
    "warnings.filterwarnings(\"ignore\")"
   ]
  },
  {
   "cell_type": "markdown",
   "metadata": {},
   "source": [
    "File to download\n",
    "https://raw.githubusercontent.com/edelmanarik/DataVisualFri/main/northwindDataBase.xlsx"
   ]
  },
  {
   "cell_type": "code",
   "execution_count": null,
   "metadata": {
    "id": "yr30J8krVkzh"
   },
   "outputs": [],
   "source": [
    "DataTest_P=pd.read_excel('https://raw.githubusercontent.com/edelmanarik/DataVisualFri/main/northwindDataBase.xlsx',sheet_name='Products')\n",
    "DataTest_S=pd.read_excel('https://raw.githubusercontent.com/edelmanarik/DataVisualFri/main/northwindDataBase.xlsx',sheet_name='Suppliers')\n",
    "DataTest_OD=pd.read_excel('https://raw.githubusercontent.com/edelmanarik/DataVisualFri/main/northwindDataBase.xlsx',sheet_name='OrderDetails')"
   ]
  },
  {
   "cell_type": "code",
   "execution_count": null,
   "metadata": {},
   "outputs": [],
   "source": [
    "DataTest_S.head()"
   ]
  },
  {
   "cell_type": "code",
   "execution_count": null,
   "metadata": {
    "id": "Sz87W531Vpd9"
   },
   "outputs": [],
   "source": [
    "SupandPro=DataTest_S.merge(DataTest_P, left_on='supplierID', right_on='supplierID')\n",
    "SupandPro=SupandPro[['companyName','productID','productName','unitPrice']]\n",
    "SupandPro.groupby('companyName').count()['productName']"
   ]
  },
  {
   "cell_type": "code",
   "execution_count": null,
   "metadata": {
    "id": "tPYwt6BMVx0v"
   },
   "outputs": [],
   "source": [
    "for i in SupandPro['companyName'].unique():\n",
    "    C1=SupandPro['companyName']==i\n",
    "#     print(i)\n",
    "    SupandPro.loc[C1].to_csv(i + '.csv')"
   ]
  },
  {
   "cell_type": "code",
   "execution_count": null,
   "metadata": {},
   "outputs": [],
   "source": [
    "# SQL : EDELMANARIKOFFI\\SQLEXPRESS\n",
    "# https://www.hedaro.com/blog/pandas-sql.html"
   ]
  },
  {
   "cell_type": "code",
   "execution_count": null,
   "metadata": {},
   "outputs": [],
   "source": [
    "import pandas as pd\n",
    "import pyodbc\n",
    "import sys"
   ]
  },
  {
   "cell_type": "code",
   "execution_count": 39,
   "metadata": {},
   "outputs": [
    {
     "data": {
      "text/html": [
       "<div>\n",
       "<style scoped>\n",
       "    .dataframe tbody tr th:only-of-type {\n",
       "        vertical-align: middle;\n",
       "    }\n",
       "\n",
       "    .dataframe tbody tr th {\n",
       "        vertical-align: top;\n",
       "    }\n",
       "\n",
       "    .dataframe thead th {\n",
       "        text-align: right;\n",
       "    }\n",
       "</style>\n",
       "<table border=\"1\" class=\"dataframe\">\n",
       "  <thead>\n",
       "    <tr style=\"text-align: right;\">\n",
       "      <th></th>\n",
       "      <th>FullName</th>\n",
       "      <th>Age</th>\n",
       "    </tr>\n",
       "  </thead>\n",
       "  <tbody>\n",
       "    <tr>\n",
       "      <th>0</th>\n",
       "      <td>Davolio Nancy</td>\n",
       "      <td>74</td>\n",
       "    </tr>\n",
       "    <tr>\n",
       "      <th>1</th>\n",
       "      <td>Fuller Andrew</td>\n",
       "      <td>70</td>\n",
       "    </tr>\n",
       "    <tr>\n",
       "      <th>2</th>\n",
       "      <td>Leverling Janet</td>\n",
       "      <td>59</td>\n",
       "    </tr>\n",
       "    <tr>\n",
       "      <th>3</th>\n",
       "      <td>Peacock Margaret</td>\n",
       "      <td>85</td>\n",
       "    </tr>\n",
       "    <tr>\n",
       "      <th>4</th>\n",
       "      <td>Buchanan Steven</td>\n",
       "      <td>67</td>\n",
       "    </tr>\n",
       "    <tr>\n",
       "      <th>5</th>\n",
       "      <td>Suyama Michael</td>\n",
       "      <td>59</td>\n",
       "    </tr>\n",
       "    <tr>\n",
       "      <th>6</th>\n",
       "      <td>King Robert</td>\n",
       "      <td>62</td>\n",
       "    </tr>\n",
       "    <tr>\n",
       "      <th>7</th>\n",
       "      <td>Callahan Laura</td>\n",
       "      <td>64</td>\n",
       "    </tr>\n",
       "    <tr>\n",
       "      <th>8</th>\n",
       "      <td>Dodsworth Anne</td>\n",
       "      <td>56</td>\n",
       "    </tr>\n",
       "  </tbody>\n",
       "</table>\n",
       "</div>"
      ],
      "text/plain": [
       "           FullName  Age\n",
       "0     Davolio Nancy   74\n",
       "1     Fuller Andrew   70\n",
       "2   Leverling Janet   59\n",
       "3  Peacock Margaret   85\n",
       "4   Buchanan Steven   67\n",
       "5    Suyama Michael   59\n",
       "6       King Robert   62\n",
       "7    Callahan Laura   64\n",
       "8    Dodsworth Anne   56"
      ]
     },
     "execution_count": 39,
     "metadata": {},
     "output_type": "execute_result"
    }
   ],
   "source": [
    "# parameters\n",
    "DB = {'servername': 'EDELMANARIKOFFI\\SQLEXPRESS','database': 'NorthWind'}\n",
    "# create the connection\n",
    "conn = pyodbc.connect('DRIVER={SQL Server};SERVER=' + DB['servername'] + ';DATABASE=' + DB['database'] + ';Trusted_Connection=yes')\n",
    "# query db\n",
    "sql = \"\"\"\n",
    "SELECT E.LastName + ' ' + E.FirstName as FullName,\n",
    "       dateDiff(Year,E.birthdate,getdate()) as Age\n",
    "FROM Employees as E \n",
    "\"\"\"\n",
    "df = pd.read_sql(sql, conn)\n",
    "df"
   ]
  },
  {
   "cell_type": "code",
   "execution_count": 41,
   "metadata": {},
   "outputs": [
    {
     "data": {
      "text/html": [
       "<div>\n",
       "<style scoped>\n",
       "    .dataframe tbody tr th:only-of-type {\n",
       "        vertical-align: middle;\n",
       "    }\n",
       "\n",
       "    .dataframe tbody tr th {\n",
       "        vertical-align: top;\n",
       "    }\n",
       "\n",
       "    .dataframe thead th {\n",
       "        text-align: right;\n",
       "    }\n",
       "</style>\n",
       "<table border=\"1\" class=\"dataframe\">\n",
       "  <thead>\n",
       "    <tr style=\"text-align: right;\">\n",
       "      <th></th>\n",
       "      <th>FullName</th>\n",
       "      <th>SumfFreight</th>\n",
       "    </tr>\n",
       "  </thead>\n",
       "  <tbody>\n",
       "    <tr>\n",
       "      <th>0</th>\n",
       "      <td>Buchanan Steven</td>\n",
       "      <td>3918.71</td>\n",
       "    </tr>\n",
       "    <tr>\n",
       "      <th>1</th>\n",
       "      <td>Callahan Laura</td>\n",
       "      <td>7487.88</td>\n",
       "    </tr>\n",
       "    <tr>\n",
       "      <th>2</th>\n",
       "      <td>Davolio Nancy</td>\n",
       "      <td>8836.64</td>\n",
       "    </tr>\n",
       "    <tr>\n",
       "      <th>3</th>\n",
       "      <td>Dodsworth Anne</td>\n",
       "      <td>3326.26</td>\n",
       "    </tr>\n",
       "    <tr>\n",
       "      <th>4</th>\n",
       "      <td>Fuller Andrew</td>\n",
       "      <td>8696.41</td>\n",
       "    </tr>\n",
       "  </tbody>\n",
       "</table>\n",
       "</div>"
      ],
      "text/plain": [
       "          FullName  SumfFreight\n",
       "0  Buchanan Steven      3918.71\n",
       "1   Callahan Laura      7487.88\n",
       "2    Davolio Nancy      8836.64\n",
       "3   Dodsworth Anne      3326.26\n",
       "4    Fuller Andrew      8696.41"
      ]
     },
     "execution_count": 41,
     "metadata": {},
     "output_type": "execute_result"
    }
   ],
   "source": [
    "# Exam 2:\n",
    "sql = \"\"\"\n",
    "SELECT E.LastName + ' ' + E.FirstName as FullName,\n",
    "       Sum(O.freight) as SumfFreight\n",
    "FROM Employees as E inner join orders as O \n",
    "on E.employeeid=o.employeeid\n",
    "group by E.LastName + ' ' + E.FirstName\n",
    "\"\"\"\n",
    "df = pd.read_sql(sql, conn)\n",
    "df.head()"
   ]
  },
  {
   "cell_type": "code",
   "execution_count": 37,
   "metadata": {},
   "outputs": [
    {
     "name": "stdout",
     "output_type": "stream",
     "text": [
      "<class 'pandas.core.frame.DataFrame'>\n",
      "RangeIndex: 224 entries, 0 to 223\n",
      "Data columns (total 2 columns):\n",
      " #   Column    Non-Null Count  Dtype \n",
      "---  ------    --------------  ----- \n",
      " 0   FullName  224 non-null    object\n",
      " 1   Age       224 non-null    int64 \n",
      "dtypes: int64(1), object(1)\n",
      "memory usage: 3.6+ KB\n"
     ]
    }
   ],
   "source": [
    "df.info()"
   ]
  },
  {
   "cell_type": "code",
   "execution_count": null,
   "metadata": {},
   "outputs": [],
   "source": [
    "df2 = pd.DataFrame({'key':['a','a','b'],\n",
    "                    'val':[435,7,6],\n",
    "                    'Mark':[90,67,45]\n",
    "                   })\n",
    "df2"
   ]
  },
  {
   "cell_type": "code",
   "execution_count": null,
   "metadata": {},
   "outputs": [],
   "source": [
    "from sqlalchemy import create_engine\n",
    "# parameters\n",
    "DB = {'servername': 'EDELMANARIKOFFI\\SQLEXPRESS','database': 'NorthWind','driver': 'driver=SQL Server Native Client 11.0'}\n",
    "# create the connection\n",
    "engine = create_engine('mssql+pyodbc://' + DB['servername'] + '/' + DB['database'] + \"?\" + DB['driver'])\n",
    "# add table to sql server\n",
    "df2.to_sql('test', index=False, con=engine)\n",
    "print('Worked!')"
   ]
  },
  {
   "cell_type": "code",
   "execution_count": null,
   "metadata": {},
   "outputs": [],
   "source": []
  }
 ],
 "metadata": {
  "colab": {
   "provenance": []
  },
  "kernelspec": {
   "display_name": "Python 3",
   "language": "python",
   "name": "python3"
  },
  "language_info": {
   "codemirror_mode": {
    "name": "ipython",
    "version": 3
   },
   "file_extension": ".py",
   "mimetype": "text/x-python",
   "name": "python",
   "nbconvert_exporter": "python",
   "pygments_lexer": "ipython3",
   "version": "3.6.5"
  }
 },
 "nbformat": 4,
 "nbformat_minor": 1
}
